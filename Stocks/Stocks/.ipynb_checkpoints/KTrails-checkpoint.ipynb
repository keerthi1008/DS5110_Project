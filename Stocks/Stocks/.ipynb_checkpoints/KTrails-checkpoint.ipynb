{
 "cells": [
  {
   "cell_type": "code",
   "execution_count": 1,
   "metadata": {},
   "outputs": [],
   "source": [
    "import numpy as np\n",
    "import matplotlib.pyplot as plt\n",
    "import pandas as pd\n",
    "import math\n",
    "from sklearn.metrics import mean_squared_error\n",
    "import matplotlib.pyplot as plt\n",
    "from pandas.plotting import lag_plot"
   ]
  },
  {
   "cell_type": "code",
   "execution_count": 2,
   "metadata": {},
   "outputs": [
    {
     "name": "stdout",
     "output_type": "stream",
     "text": [
      "Requirement already satisfied: tensorflow in c:\\users\\keert\\anaconda3\\lib\\site-packages (2.4.1)\n",
      "Requirement already satisfied: absl-py~=0.10 in c:\\users\\keert\\anaconda3\\lib\\site-packages (from tensorflow) (0.12.0)\n",
      "Requirement already satisfied: tensorflow-estimator<2.5.0,>=2.4.0 in c:\\users\\keert\\anaconda3\\lib\\site-packages (from tensorflow) (2.4.0)\n",
      "Requirement already satisfied: opt-einsum~=3.3.0 in c:\\users\\keert\\anaconda3\\lib\\site-packages (from tensorflow) (3.3.0)\n",
      "Requirement already satisfied: tensorboard~=2.4 in c:\\users\\keert\\anaconda3\\lib\\site-packages (from tensorflow) (2.4.1)\n",
      "Requirement already satisfied: wheel~=0.35 in c:\\users\\keert\\anaconda3\\lib\\site-packages (from tensorflow) (0.35.1)\n",
      "Requirement already satisfied: h5py~=2.10.0 in c:\\users\\keert\\anaconda3\\lib\\site-packages (from tensorflow) (2.10.0)\n",
      "Requirement already satisfied: grpcio~=1.32.0 in c:\\users\\keert\\anaconda3\\lib\\site-packages (from tensorflow) (1.32.0)\n",
      "Requirement already satisfied: termcolor~=1.1.0 in c:\\users\\keert\\anaconda3\\lib\\site-packages (from tensorflow) (1.1.0)\n",
      "Requirement already satisfied: wrapt~=1.12.1 in c:\\users\\keert\\anaconda3\\lib\\site-packages (from tensorflow) (1.12.1)\n",
      "Requirement already satisfied: gast==0.3.3 in c:\\users\\keert\\anaconda3\\lib\\site-packages (from tensorflow) (0.3.3)\n",
      "Requirement already satisfied: flatbuffers~=1.12.0 in c:\\users\\keert\\anaconda3\\lib\\site-packages (from tensorflow) (1.12)\n",
      "Requirement already satisfied: keras-preprocessing~=1.1.2 in c:\\users\\keert\\anaconda3\\lib\\site-packages (from tensorflow) (1.1.2)\n",
      "Requirement already satisfied: numpy~=1.19.2 in c:\\users\\keert\\anaconda3\\lib\\site-packages (from tensorflow) (1.19.2)\n",
      "Requirement already satisfied: protobuf>=3.9.2 in c:\\users\\keert\\anaconda3\\lib\\site-packages (from tensorflow) (3.15.8)\n",
      "Requirement already satisfied: typing-extensions~=3.7.4 in c:\\users\\keert\\anaconda3\\lib\\site-packages (from tensorflow) (3.7.4.3)\n",
      "Requirement already satisfied: six~=1.15.0 in c:\\users\\keert\\anaconda3\\lib\\site-packages (from tensorflow) (1.15.0)\n",
      "Requirement already satisfied: google-pasta~=0.2 in c:\\users\\keert\\anaconda3\\lib\\site-packages (from tensorflow) (0.2.0)\n",
      "Requirement already satisfied: astunparse~=1.6.3 in c:\\users\\keert\\anaconda3\\lib\\site-packages (from tensorflow) (1.6.3)\n",
      "Requirement already satisfied: google-auth<2,>=1.6.3 in c:\\users\\keert\\anaconda3\\lib\\site-packages (from tensorboard~=2.4->tensorflow) (1.28.1)\n",
      "Requirement already satisfied: werkzeug>=0.11.15 in c:\\users\\keert\\anaconda3\\lib\\site-packages (from tensorboard~=2.4->tensorflow) (1.0.1)\n",
      "Requirement already satisfied: setuptools>=41.0.0 in c:\\users\\keert\\anaconda3\\lib\\site-packages (from tensorboard~=2.4->tensorflow) (50.3.1.post20201107)\n",
      "Requirement already satisfied: markdown>=2.6.8 in c:\\users\\keert\\anaconda3\\lib\\site-packages (from tensorboard~=2.4->tensorflow) (3.3.4)\n",
      "Requirement already satisfied: requests<3,>=2.21.0 in c:\\users\\keert\\anaconda3\\lib\\site-packages (from tensorboard~=2.4->tensorflow) (2.25.1)\n",
      "Requirement already satisfied: google-auth-oauthlib<0.5,>=0.4.1 in c:\\users\\keert\\anaconda3\\lib\\site-packages (from tensorboard~=2.4->tensorflow) (0.4.4)\n",
      "Requirement already satisfied: tensorboard-plugin-wit>=1.6.0 in c:\\users\\keert\\anaconda3\\lib\\site-packages (from tensorboard~=2.4->tensorflow) (1.8.0)\n",
      "Requirement already satisfied: rsa<5,>=3.1.4; python_version >= \"3.6\" in c:\\users\\keert\\anaconda3\\lib\\site-packages (from google-auth<2,>=1.6.3->tensorboard~=2.4->tensorflow) (4.7.2)\n",
      "Requirement already satisfied: cachetools<5.0,>=2.0.0 in c:\\users\\keert\\anaconda3\\lib\\site-packages (from google-auth<2,>=1.6.3->tensorboard~=2.4->tensorflow) (4.2.1)\n",
      "Requirement already satisfied: pyasn1-modules>=0.2.1 in c:\\users\\keert\\anaconda3\\lib\\site-packages (from google-auth<2,>=1.6.3->tensorboard~=2.4->tensorflow) (0.2.8)\n",
      "Requirement already satisfied: urllib3<1.27,>=1.21.1 in c:\\users\\keert\\anaconda3\\lib\\site-packages (from requests<3,>=2.21.0->tensorboard~=2.4->tensorflow) (1.25.11)\n",
      "Requirement already satisfied: idna<3,>=2.5 in c:\\users\\keert\\anaconda3\\lib\\site-packages (from requests<3,>=2.21.0->tensorboard~=2.4->tensorflow) (2.10)\n",
      "Requirement already satisfied: chardet<5,>=3.0.2 in c:\\users\\keert\\anaconda3\\lib\\site-packages (from requests<3,>=2.21.0->tensorboard~=2.4->tensorflow) (3.0.4)\n",
      "Requirement already satisfied: certifi>=2017.4.17 in c:\\users\\keert\\anaconda3\\lib\\site-packages (from requests<3,>=2.21.0->tensorboard~=2.4->tensorflow) (2020.6.20)\n",
      "Requirement already satisfied: requests-oauthlib>=0.7.0 in c:\\users\\keert\\anaconda3\\lib\\site-packages (from google-auth-oauthlib<0.5,>=0.4.1->tensorboard~=2.4->tensorflow) (1.3.0)\n",
      "Requirement already satisfied: pyasn1>=0.1.3 in c:\\users\\keert\\anaconda3\\lib\\site-packages (from rsa<5,>=3.1.4; python_version >= \"3.6\"->google-auth<2,>=1.6.3->tensorboard~=2.4->tensorflow) (0.4.8)\n",
      "Requirement already satisfied: oauthlib>=3.0.0 in c:\\users\\keert\\anaconda3\\lib\\site-packages (from requests-oauthlib>=0.7.0->google-auth-oauthlib<0.5,>=0.4.1->tensorboard~=2.4->tensorflow) (3.1.0)\n",
      "Note: you may need to restart the kernel to use updated packages.\n"
     ]
    }
   ],
   "source": [
    "\n",
    "pip install tensorflow"
   ]
  },
  {
   "cell_type": "code",
   "execution_count": 3,
   "metadata": {},
   "outputs": [],
   "source": [
    "df=pd.read_excel('amazon_final.xlsx')\n",
    "gdf=pd.read_excel('amazon_final.xlsx')\n",
    "train_data, test_data = df[0:int(len(df)*0.8)], df[int(len(df)*0.8):]\n",
    "dataset_train = train_data\n",
    "training_set = dataset_train.iloc[:, [1,2,3,4,5,7]].values"
   ]
  },
  {
   "cell_type": "code",
   "execution_count": 4,
   "metadata": {},
   "outputs": [
    {
     "data": {
      "text/plain": [
       "1007"
      ]
     },
     "execution_count": 4,
     "metadata": {},
     "output_type": "execute_result"
    }
   ],
   "source": [
    "len(training_set)"
   ]
  },
  {
   "cell_type": "code",
   "execution_count": 5,
   "metadata": {},
   "outputs": [],
   "source": [
    "# df.isnull().values.any()\n",
    "# df = df.dropna()\n",
    "# print(df)"
   ]
  },
  {
   "cell_type": "code",
   "execution_count": 6,
   "metadata": {},
   "outputs": [
    {
     "data": {
      "image/png": "[encoded data removed]",
      "text/plain": [
       "<Figure size 432x288 with 1 Axes>"
      ]
     },
     "metadata": {
      "needs_background": "light"
     },
     "output_type": "display_data"
    }
   ],
   "source": [
    "plt.figure()\n",
    "plt.plot(df[\"open\"])\n",
    "plt.plot(df[\"high\"])\n",
    "plt.plot(df[\"low\"])\n",
    "plt.plot(df[\"close\"])\n",
    "plt.title('Amazon stock price history')\n",
    "plt.ylabel('Price (USD)')\n",
    "plt.xlabel('Days')\n",
    "plt.legend(['Open','High','Low','Close'], loc='upper left')\n",
    "plt.show()"
   ]
  },
  {
   "cell_type": "code",
   "execution_count": 7,
   "metadata": {},
   "outputs": [
    {
     "data": {
      "image/png": "[encoded data removed]",
      "text/plain": [
       "<Figure size 432x288 with 1 Axes>"
      ]
     },
     "metadata": {
      "needs_background": "light"
     },
     "output_type": "display_data"
    }
   ],
   "source": [
    "plt.figure()\n",
    "plt.plot(df[\"volume\"])\n",
    "plt.title('Amazon stock volume history')\n",
    "plt.ylabel('Volume')\n",
    "plt.xlabel('Days')\n",
    "plt.show()"
   ]
  },
  {
   "cell_type": "code",
   "execution_count": 8,
   "metadata": {},
   "outputs": [],
   "source": [
    "\n",
    "# gdf[\"date\"] = pd.to_datetime(gdf[\"date\"])\n",
    "\n",
    "# gdf[\"year\"]= gdf[\"date\"].dt.year\n",
    "# plt.figure(figsize = (15,10))\n",
    "# plt.plot(gdf[\"close\"])\n",
    "# plt.xlabel(\"year\")\n",
    "# plt.ylabel(\"close\")\n",
    "# # plt.legend(loc='best')\n",
    "# plt.show()\n",
    "\n",
    "# gdf\n"
   ]
  },
  {
   "cell_type": "code",
   "execution_count": 9,
   "metadata": {},
   "outputs": [
    {
     "name": "stdout",
     "output_type": "stream",
     "text": [
      "0          261.950\n",
      "1          519.160\n",
      "2          777.860\n",
      "3         1047.330\n",
      "4         1316.570\n",
      "           ...    \n",
      "1254    720612.401\n",
      "1255    722042.351\n",
      "1256    723432.351\n",
      "1257    724875.191\n",
      "1258    726291.971\n",
      "Name: close, Length: 1259, dtype: float64\n",
      "            date     open     high       low    close    volume  Name  \\\n",
      "0     2013-02-08   261.40   265.25   260.555   261.95   3879078  AMZN   \n",
      "1     2013-02-11   263.20   263.25   256.600   257.21   3403403  AMZN   \n",
      "2     2013-02-12   259.19   260.16   257.000   258.70   2938660  AMZN   \n",
      "3     2013-02-13   261.53   269.96   260.300   269.47   5292996  AMZN   \n",
      "4     2013-02-14   267.37   270.65   265.400   269.24   3462780  AMZN   \n",
      "...          ...      ...      ...       ...      ...       ...   ...   \n",
      "1254  2018-02-01  1445.00  1459.88  1385.140  1390.00   9113808  AMZN   \n",
      "1255  2018-02-02  1477.39  1498.00  1414.000  1429.95  11125722  AMZN   \n",
      "1256  2018-02-05  1402.62  1458.98  1320.720  1390.00  11494985  AMZN   \n",
      "1257  2018-02-06  1361.46  1443.99  1351.790  1442.84  11066819  AMZN   \n",
      "1258  2018-02-07  1449.00  1460.99  1415.150  1416.78   7162741  AMZN   \n",
      "\n",
      "      Sentiment  \n",
      "0      0.955800  \n",
      "1      0.000000  \n",
      "2      0.000000  \n",
      "3      0.000000  \n",
      "4      0.000000  \n",
      "...         ...  \n",
      "1254  -0.030175  \n",
      "1255   0.000000  \n",
      "1256   0.999100  \n",
      "1257   0.000000  \n",
      "1258  -0.776300  \n",
      "\n",
      "[1259 rows x 8 columns]\n"
     ]
    },
    {
     "data": {
      "image/png": "[encoded data removed]",
      "text/plain": [
       "<Figure size 432x288 with 1 Axes>"
      ]
     },
     "metadata": {
      "needs_background": "light"
     },
     "output_type": "display_data"
    }
   ],
   "source": [
    "dr = df['close'].cumsum()\n",
    "print(dr)\n",
    "dr.plot()\n",
    "plt.title('Amazon Cumulative Returns')\n",
    "print(df)"
   ]
  },
  {
   "cell_type": "code",
   "execution_count": 10,
   "metadata": {},
   "outputs": [
    {
     "data": {
      "text/plain": [
       "Text(0.5, 1.0, 'Amazon Autocorrelation plot')"
      ]
     },
     "execution_count": 10,
     "metadata": {},
     "output_type": "execute_result"
    },
    {
     "data": {
      "image/png": "[encoded data removed]",
      "text/plain": [
       "<Figure size 720x720 with 1 Axes>"
      ]
     },
     "metadata": {
      "needs_background": "light"
     },
     "output_type": "display_data"
    }
   ],
   "source": [
    "plt.figure(figsize=(10,10))\n",
    "lag_plot(df['open'], lag=5)\n",
    "plt.title('Amazon Autocorrelation plot')"
   ]
  },
  {
   "cell_type": "code",
   "execution_count": 11,
   "metadata": {},
   "outputs": [],
   "source": [
    "from sklearn.preprocessing import MinMaxScaler\n",
    "sc = MinMaxScaler(feature_range = (0, 1))\n",
    "training_set = sc.fit_transform(training_set)"
   ]
  },
  {
   "cell_type": "code",
   "execution_count": 12,
   "metadata": {},
   "outputs": [
    {
     "name": "stdout",
     "output_type": "stream",
     "text": [
      "[[0.02087627 0.02073097 0.02488863 0.02301511 0.12239586 0.9779489 ]\n",
      " [0.0238921  0.01736555 0.01823989 0.01506383 0.10149909 0.500025  ]\n",
      " [0.01717349 0.01216598 0.01891233 0.01756328 0.08108258 0.500025  ]\n",
      " ...\n",
      " [0.93453967 0.9513529  0.93847188 0.94269706 0.42945852 0.500025  ]\n",
      " [0.93970009 0.93859797 0.93679079 0.9384027  0.12319641 0.500025  ]\n",
      " [0.93887912 0.9477519  0.94435572 0.94655528 0.10425303 0.87109355]]\n"
     ]
    }
   ],
   "source": [
    "training_set_scaled = training_set\n",
    "print(training_set_scaled)"
   ]
  },
  {
   "cell_type": "code",
   "execution_count": 13,
   "metadata": {},
   "outputs": [
    {
     "name": "stdout",
     "output_type": "stream",
     "text": [
      "(947, 60, 6)\n"
     ]
    }
   ],
   "source": [
    "X_train = []\n",
    "y_train = []\n",
    "for i in range(60, 1007):\n",
    "    X_train.append(training_set_scaled[i-60:i, :])\n",
    "    y_train.append(training_set_scaled[i, 3])\n",
    "X_train, y_train = np.array(X_train), np.array(y_train)\n",
    "\n",
    "X_train = np.array(X_train)\n",
    "print(X_train.shape)"
   ]
  },
  {
   "cell_type": "code",
   "execution_count": 14,
   "metadata": {},
   "outputs": [],
   "source": [
    "from keras.models import Sequential\n",
    "from keras.layers import Dense\n",
    "from keras.layers import LSTM\n",
    "from keras.layers import Dropout\n",
    "from keras.optimizers import RMSprop, Adam"
   ]
  },
  {
   "cell_type": "code",
   "execution_count": null,
   "metadata": {},
   "outputs": [
    {
     "name": "stdout",
     "output_type": "stream",
     "text": [
      "Epoch 1/200\n",
      "48/48 [==============================] - 6s 32ms/step - loss: 0.2151\n",
      "Epoch 2/200\n",
      "48/48 [==============================] - 1s 27ms/step - loss: 0.1397\n",
      "Epoch 3/200\n",
      "48/48 [==============================] - 1s 27ms/step - loss: 0.1242\n",
      "Epoch 4/200\n",
      "48/48 [==============================] - 1s 26ms/step - loss: 0.1008\n",
      "Epoch 5/200\n",
      "48/48 [==============================] - 1s 26ms/step - loss: 0.0862\n",
      "Epoch 6/200\n",
      "48/48 [==============================] - 1s 27ms/step - loss: 0.0808\n",
      "Epoch 7/200\n",
      "48/48 [==============================] - 1s 28ms/step - loss: 0.0686\n",
      "Epoch 8/200\n",
      "48/48 [==============================] - 1s 29ms/step - loss: 0.0605\n",
      "Epoch 9/200\n",
      "48/48 [==============================] - 1s 29ms/step - loss: 0.0468\n",
      "Epoch 10/200\n",
      "48/48 [==============================] - 1s 27ms/step - loss: 0.0403\n",
      "Epoch 11/200\n",
      "48/48 [==============================] - 1s 29ms/step - loss: 0.0390\n",
      "Epoch 12/200\n",
      "48/48 [==============================] - 1s 29ms/step - loss: 0.0320\n",
      "Epoch 13/200\n",
      "48/48 [==============================] - 1s 26ms/step - loss: 0.0272\n",
      "Epoch 14/200\n",
      "48/48 [==============================] - 1s 28ms/step - loss: 0.0260\n",
      "Epoch 15/200\n",
      "48/48 [==============================] - 1s 26ms/step - loss: 0.0216\n",
      "Epoch 16/200\n",
      "48/48 [==============================] - 1s 26ms/step - loss: 0.0217\n",
      "Epoch 17/200\n",
      "48/48 [==============================] - 1s 27ms/step - loss: 0.0181\n",
      "Epoch 18/200\n",
      "48/48 [==============================] - 1s 26ms/step - loss: 0.0206\n",
      "Epoch 19/200\n",
      "48/48 [==============================] - 1s 27ms/step - loss: 0.0181\n",
      "Epoch 20/200\n",
      "48/48 [==============================] - 1s 27ms/step - loss: 0.0192\n",
      "Epoch 21/200\n",
      "48/48 [==============================] - 1s 27ms/step - loss: 0.0173\n",
      "Epoch 22/200\n",
      "48/48 [==============================] - 1s 27ms/step - loss: 0.0148\n",
      "Epoch 23/200\n",
      "48/48 [==============================] - 1s 26ms/step - loss: 0.0165\n",
      "Epoch 24/200\n",
      "48/48 [==============================] - 1s 27ms/step - loss: 0.0155\n",
      "Epoch 25/200\n",
      "48/48 [==============================] - 1s 26ms/step - loss: 0.0150\n",
      "Epoch 26/200\n",
      "48/48 [==============================] - 1s 27ms/step - loss: 0.0125\n",
      "Epoch 27/200\n",
      "48/48 [==============================] - 1s 27ms/step - loss: 0.0133\n",
      "Epoch 28/200\n",
      "48/48 [==============================] - 1s 27ms/step - loss: 0.0144\n",
      "Epoch 29/200\n",
      "48/48 [==============================] - 1s 29ms/step - loss: 0.0134\n",
      "Epoch 30/200\n",
      "48/48 [==============================] - 1s 30ms/step - loss: 0.0127\n",
      "Epoch 31/200\n",
      "48/48 [==============================] - 1s 27ms/step - loss: 0.0138\n",
      "Epoch 32/200\n",
      "48/48 [==============================] - 1s 27ms/step - loss: 0.0140\n",
      "Epoch 33/200\n",
      "48/48 [==============================] - 1s 26ms/step - loss: 0.0114\n",
      "Epoch 34/200\n",
      "48/48 [==============================] - 1s 27ms/step - loss: 0.0120\n",
      "Epoch 35/200\n",
      "48/48 [==============================] - 1s 30ms/step - loss: 0.0106\n",
      "Epoch 36/200\n",
      "48/48 [==============================] - 1s 30ms/step - loss: 0.0102\n",
      "Epoch 37/200\n",
      "48/48 [==============================] - 1s 27ms/step - loss: 0.0103\n",
      "Epoch 38/200\n",
      "48/48 [==============================] - 1s 26ms/step - loss: 0.0096\n",
      "Epoch 39/200\n",
      "48/48 [==============================] - 1s 26ms/step - loss: 0.0097\n",
      "Epoch 40/200\n",
      "31/48 [==================>...........] - ETA: 0s - loss: 0.0104"
     ]
    }
   ],
   "source": [
    "regressor = Sequential()\n",
    "\n",
    "regressor.add(LSTM(units = 100, dropout=0.0, kernel_initializer='random_uniform', recurrent_dropout=0.0, return_sequences = True, input_shape = ( 60, 6)))\n",
    "regressor.add(Dropout(0.4))\n",
    "\n",
    "# regressor.add(LSTM(units = 50, return_sequences = True))\n",
    "# regressor.add(Dropout(0.2))\n",
    "\n",
    "# regressor.add(LSTM(units = 50, return_sequences = True))\n",
    "# regressor.add(Dropout(0.2))\n",
    "regressor.add(LSTM(units = 60, dropout=0.0))\n",
    "regressor.add(Dropout(0.4))\n",
    "\n",
    "regressor.add(Dense(units = 20, activation='gelu'))\n",
    "regressor.add(Dense(units = 20, activation='gelu'))\n",
    "\n",
    "opt = Adam(lr=0.0001)\n",
    "\n",
    "regressor.compile(optimizer = opt, loss = 'mean_squared_error')\n",
    "\n",
    "regressor.fit(X_train, y_train, epochs = 200, batch_size = 20)"
   ]
  },
  {
   "cell_type": "code",
   "execution_count": null,
   "metadata": {},
   "outputs": [],
   "source": [
    "regressor.fit(X_train, y_train, epochs = 10, batch_size = 20)"
   ]
  },
  {
   "cell_type": "code",
   "execution_count": null,
   "metadata": {},
   "outputs": [],
   "source": [
    "#BEST!! AMAZON # RMSE 36 220 epochs closing value\n",
    "# regressor = Sequential()\n",
    "\n",
    "# regressor.add(LSTM(units = 100, dropout=0.0, kernel_initializer='random_uniform', recurrent_dropout=0.0, return_sequences = True, input_shape = ( 60, 6)))\n",
    "# regressor.add(Dropout(0.4))\n",
    "\n",
    "# # regressor.add(LSTM(units = 50, return_sequences = True))\n",
    "# # regressor.add(Dropout(0.2))\n",
    "\n",
    "# # regressor.add(LSTM(units = 50, return_sequences = True))\n",
    "# # regressor.add(Dropout(0.2))\n",
    "# regressor.add(LSTM(units = 60, dropout=0.0))\n",
    "# regressor.add(Dropout(0.4))\n",
    "\n",
    "# regressor.add(Dense(units = 20, activation='gelu'))\n",
    "# regressor.add(Dense(units = 20, activation='gelu'))\n",
    "\n",
    "# opt = Adam(lr=0.0001)\n",
    "\n",
    "# regressor.compile(optimizer = opt, loss = 'mean_squared_error')\n",
    "\n",
    "# regressor.fit(X_train, y_train, epochs = 220, batch_size = 20)"
   ]
  },
  {
   "cell_type": "code",
   "execution_count": null,
   "metadata": {},
   "outputs": [],
   "source": [
    "dataset_test = test_data\n",
    "real_stock_price = dataset_test.iloc[:, 4].values\n"
   ]
  },
  {
   "cell_type": "code",
   "execution_count": null,
   "metadata": {},
   "outputs": [],
   "source": [
    "dataset_total = pd.concat((dataset_train[['open', 'high','low','close','volume','Sentiment']], dataset_test[['open', 'high','low','close','volume','Sentiment']]), axis = 0)\n",
    "inputs = dataset_total[len(dataset_total) - len(dataset_test) - 60:].values\n",
    "# print(inputs[0])\n",
    "# inputs = inputs.reshape(-1,1)\n",
    "# print(inputs[0])\n",
    "inputs = sc.transform(inputs)\n",
    "X_test = []\n",
    "for i in range(60, len(inputs)):\n",
    "    X_test.append(inputs[i-60:i, :])\n",
    "X_test = np.array(X_test)\n",
    "# X_test = np.array(X_test, (X_test.shape[0], X_test.shape[1], 1))\n",
    "predicted_stock_price = regressor.predict(X_test)\n",
    "buffered_predicted_stock_price = np.array([[0,0,0,i[0],0,0] for i in predicted_stock_price])  \n",
    "predicted_stock_price = sc.inverse_transform(buffered_predicted_stock_price)\n",
    "predicted_stock_price = predicted_stock_price[:,3]\n",
    "                                    \n",
    "\n",
    "    "
   ]
  },
  {
   "cell_type": "code",
   "execution_count": null,
   "metadata": {},
   "outputs": [],
   "source": [
    "def return_rmse(test,predicted):\n",
    "    # START_CODE_HERE\n",
    "    rmse = math.sqrt(mean_squared_error(test, predicted))\n",
    "    print(\"The root mean squared error is {}.\".format(rmse))\n",
    "    # END_CODE_HERE"
   ]
  },
  {
   "cell_type": "code",
   "execution_count": null,
   "metadata": {},
   "outputs": [],
   "source": [
    "return_rmse(real_stock_price,predicted_stock_price)"
   ]
  },
  {
   "cell_type": "code",
   "execution_count": null,
   "metadata": {},
   "outputs": [],
   "source": [
    "plt.plot(real_stock_price, color = 'black', label = 'Amazon Stock Price')\n",
    "plt.plot(predicted_stock_price, color = 'green', label = 'Predicted Amazon Stock Price')\n",
    "plt.title('Amazon Stock Price Prediction')\n",
    "plt.xlabel('Time')\n",
    "plt.ylabel('Amazon Stock Price')\n",
    "plt.legend()\n",
    "plt.show()"
   ]
  },
  {
   "cell_type": "code",
   "execution_count": null,
   "metadata": {},
   "outputs": [],
   "source": [
    "plt.figure(figsize=(12,7))\n",
    "plt.plot(df['close'], 'green', color='blue', label='Training Data')\n",
    "plt.plot(test_data.index, predicted_stock_price, color='green', marker='o', linestyle='dashed', \n",
    "         label='Predicted Price')\n",
    "plt.plot(test_data.index, test_data['close'], color='red', label='Actual Price')\n",
    "plt.title('Amazon Prices Prediction')\n",
    "plt.xlabel('Dates')\n",
    "plt.ylabel('Prices')\n",
    "# plt.xticks(np.arange(0,1260, 60), df['date'][0:1260:60])\n",
    "plt.legend()"
   ]
  },
  {
   "cell_type": "code",
   "execution_count": null,
   "metadata": {},
   "outputs": [],
   "source": []
  },
  {
   "cell_type": "code",
   "execution_count": null,
   "metadata": {},
   "outputs": [],
   "source": []
  }
 ],
 "metadata": {
  "kernelspec": {
   "display_name": "Python 3",
   "language": "python",
   "name": "python3"
  },
  "language_info": {
   "codemirror_mode": {
    "name": "ipython",
    "version": 3
   },
   "file_extension": ".py",
   "mimetype": "text/x-python",
   "name": "python",
   "nbconvert_exporter": "python",
   "pygments_lexer": "ipython3",
   "version": "3.8.5"
  }
 },
 "nbformat": 4,
 "nbformat_minor": 4
}
